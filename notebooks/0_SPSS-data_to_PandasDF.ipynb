{
 "cells": [
  {
   "cell_type": "markdown",
   "metadata": {},
   "source": [
    "# Importing SPSS data into a (python) pandas dataframe (via R)"
   ]
  },
  {
   "cell_type": "markdown",
   "metadata": {},
   "source": [
    "#### I didn't find a good way to import directly from SPSS to pandas, so I'm using R. So:\n",
    "#### !!! You also need to have R installed to use this script !!!"
   ]
  },
  {
   "cell_type": "code",
   "execution_count": 1,
   "metadata": {},
   "outputs": [],
   "source": [
    "# getting some warnings when using rpy2, so turning those warnings off\n",
    "import warnings\n",
    "warnings.filterwarnings('ignore')"
   ]
  },
  {
   "cell_type": "code",
   "execution_count": 2,
   "metadata": {},
   "outputs": [],
   "source": [
    "# import python library that can load R libraries and can convert to a pandas dataframe\n",
    "from rpy2.robjects import pandas2ri, r"
   ]
  },
  {
   "cell_type": "code",
   "execution_count": 3,
   "metadata": {},
   "outputs": [],
   "source": [
    "# location of SPSS data (.sav) file\n",
    "filename = './data/infections.sav'"
   ]
  },
  {
   "cell_type": "code",
   "execution_count": 4,
   "metadata": {},
   "outputs": [],
   "source": [
    "# use r to convert SPPS data to R dataframe\n",
    "w = r('foreign::read.spss(\"{}\", to.data.frame=TRUE)'.format(filename))"
   ]
  },
  {
   "cell_type": "code",
   "execution_count": 5,
   "metadata": {},
   "outputs": [],
   "source": [
    "# convert r dataframe to (python) pandas dataframe\n",
    "df = pandas2ri.ri2py(w)"
   ]
  },
  {
   "cell_type": "code",
   "execution_count": 6,
   "metadata": {},
   "outputs": [
    {
     "name": "stdout",
     "output_type": "stream",
     "text": [
      "<class 'pandas.core.frame.DataFrame'>\n",
      "RangeIndex: 364 entries, 0 to 363\n",
      "Data columns (total 7 columns):\n",
      "year           364 non-null float64\n",
      "week           364 non-null float64\n",
      "date           364 non-null category\n",
      "clostridium    364 non-null float64\n",
      "rsv            364 non-null float64\n",
      "rotavirus      364 non-null float64\n",
      "salmonella     364 non-null float64\n",
      "dtypes: category(1), float64(6)\n",
      "memory usage: 30.7 KB\n"
     ]
    }
   ],
   "source": [
    "# checking meta data of the dataframe\n",
    "# the nice thing is, that info() combines .shape and .dtypes\n",
    "df.info()"
   ]
  },
  {
   "cell_type": "code",
   "execution_count": 7,
   "metadata": {},
   "outputs": [
    {
     "data": {
      "text/html": [
       "<div>\n",
       "<style scoped>\n",
       "    .dataframe tbody tr th:only-of-type {\n",
       "        vertical-align: middle;\n",
       "    }\n",
       "\n",
       "    .dataframe tbody tr th {\n",
       "        vertical-align: top;\n",
       "    }\n",
       "\n",
       "    .dataframe thead th {\n",
       "        text-align: right;\n",
       "    }\n",
       "</style>\n",
       "<table border=\"1\" class=\"dataframe\">\n",
       "  <thead>\n",
       "    <tr style=\"text-align: right;\">\n",
       "      <th></th>\n",
       "      <th>year</th>\n",
       "      <th>week</th>\n",
       "      <th>date</th>\n",
       "      <th>clostridium</th>\n",
       "      <th>rsv</th>\n",
       "      <th>rotavirus</th>\n",
       "      <th>salmonella</th>\n",
       "    </tr>\n",
       "  </thead>\n",
       "  <tbody>\n",
       "    <tr>\n",
       "      <th>0</th>\n",
       "      <td>1996.000</td>\n",
       "      <td>27.000</td>\n",
       "      <td>W27 1996</td>\n",
       "      <td>201.000</td>\n",
       "      <td>7.000</td>\n",
       "      <td>155.000</td>\n",
       "      <td>132.000</td>\n",
       "    </tr>\n",
       "    <tr>\n",
       "      <th>1</th>\n",
       "      <td>1996.000</td>\n",
       "      <td>28.000</td>\n",
       "      <td>W28 1996</td>\n",
       "      <td>177.000</td>\n",
       "      <td>2.000</td>\n",
       "      <td>118.000</td>\n",
       "      <td>107.000</td>\n",
       "    </tr>\n",
       "    <tr>\n",
       "      <th>2</th>\n",
       "      <td>1996.000</td>\n",
       "      <td>29.000</td>\n",
       "      <td>W29 1996</td>\n",
       "      <td>168.000</td>\n",
       "      <td>1.000</td>\n",
       "      <td>90.000</td>\n",
       "      <td>106.000</td>\n",
       "    </tr>\n",
       "  </tbody>\n",
       "</table>\n",
       "</div>"
      ],
      "text/plain": [
       "      year   week      date  clostridium   rsv  rotavirus  salmonella\n",
       "0 1996.000 27.000  W27 1996      201.000 7.000    155.000     132.000\n",
       "1 1996.000 28.000  W28 1996      177.000 2.000    118.000     107.000\n",
       "2 1996.000 29.000  W29 1996      168.000 1.000     90.000     106.000"
      ]
     },
     "execution_count": 7,
     "metadata": {},
     "output_type": "execute_result"
    }
   ],
   "source": [
    "# checking some data\n",
    "# some integers have become floats etc.\n",
    "df.head(3)"
   ]
  },
  {
   "cell_type": "code",
   "execution_count": 8,
   "metadata": {},
   "outputs": [],
   "source": [
    "# write dataframe to csv file (in some location as where all data files are)\n",
    "df.to_csv('./data/infections.csv', index=False)"
   ]
  }
 ],
 "metadata": {
  "kernelspec": {
   "display_name": "openu3",
   "language": "python",
   "name": "openu3"
  },
  "language_info": {
   "codemirror_mode": {
    "name": "ipython",
    "version": 3
   },
   "file_extension": ".py",
   "mimetype": "text/x-python",
   "name": "python",
   "nbconvert_exporter": "python",
   "pygments_lexer": "ipython3",
   "version": "3.6.2"
  }
 },
 "nbformat": 4,
 "nbformat_minor": 2
}
