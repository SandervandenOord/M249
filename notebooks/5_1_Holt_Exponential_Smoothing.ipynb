{
 "cells": [
  {
   "cell_type": "markdown",
   "metadata": {},
   "source": [
    "# Holt Exponential Smoothing (= with trend, but no seasonality)"
   ]
  },
  {
   "cell_type": "markdown",
   "metadata": {},
   "source": [
    "#### Predicting flight passengers for the next 5 years using Holt's Exponential smoothing\n",
    "#### Holt's exponential smoothing is also known as double smoothing"
   ]
  },
  {
   "cell_type": "markdown",
   "metadata": {},
   "source": [
    "#### https://www.statsmodels.org/dev/generated/statsmodels.tsa.holtwinters.ExponentialSmoothing.html"
   ]
  },
  {
   "cell_type": "code",
   "execution_count": 1,
   "metadata": {},
   "outputs": [],
   "source": [
    "# getting some warnings from matplotlib, so turning those warnings off\n",
    "import warnings\n",
    "warnings.filterwarnings('ignore')\n",
    "\n",
    "# importing libraries\n",
    "import pandas as pd\n",
    "import numpy as np\n",
    "\n",
    "import seaborn as sns\n",
    "from matplotlib import pyplot as plt\n",
    "%matplotlib inline"
   ]
  },
  {
   "cell_type": "code",
   "execution_count": 2,
   "metadata": {},
   "outputs": [],
   "source": [
    "# statsmodels documentation on simple exponential smoothing:\n",
    "# https://www.statsmodels.org/dev/generated/statsmodels.tsa.holtwinters.ExponentialSmoothing.html\n",
    "from statsmodels.tsa.holtwinters import ExponentialSmoothing"
   ]
  },
  {
   "cell_type": "code",
   "execution_count": 3,
   "metadata": {},
   "outputs": [],
   "source": [
    "# reading csv to dataframe\n",
    "filename = './data/airline5.csv'\n",
    "df = pd.read_csv(filename)"
   ]
  },
  {
   "cell_type": "code",
   "execution_count": 4,
   "metadata": {},
   "outputs": [
    {
     "data": {
      "text/html": [
       "<div>\n",
       "<style scoped>\n",
       "    .dataframe tbody tr th:only-of-type {\n",
       "        vertical-align: middle;\n",
       "    }\n",
       "\n",
       "    .dataframe tbody tr th {\n",
       "        vertical-align: top;\n",
       "    }\n",
       "\n",
       "    .dataframe thead th {\n",
       "        text-align: right;\n",
       "    }\n",
       "</style>\n",
       "<table border=\"1\" class=\"dataframe\">\n",
       "  <thead>\n",
       "    <tr style=\"text-align: right;\">\n",
       "      <th></th>\n",
       "      <th>passengers</th>\n",
       "      <th>fpass</th>\n",
       "      <th>YEAR_</th>\n",
       "      <th>DATE_</th>\n",
       "    </tr>\n",
       "  </thead>\n",
       "  <tbody>\n",
       "    <tr>\n",
       "      <th>0</th>\n",
       "      <td>1839344.000</td>\n",
       "      <td>36.827</td>\n",
       "      <td>1949.000</td>\n",
       "      <td>1949</td>\n",
       "    </tr>\n",
       "    <tr>\n",
       "      <th>1</th>\n",
       "      <td>2132542.000</td>\n",
       "      <td>38.214</td>\n",
       "      <td>1950.000</td>\n",
       "      <td>1950</td>\n",
       "    </tr>\n",
       "    <tr>\n",
       "      <th>2</th>\n",
       "      <td>2471044.000</td>\n",
       "      <td>39.648</td>\n",
       "      <td>1951.000</td>\n",
       "      <td>1951</td>\n",
       "    </tr>\n",
       "  </tbody>\n",
       "</table>\n",
       "</div>"
      ],
      "text/plain": [
       "   passengers  fpass    YEAR_  DATE_\n",
       "0 1839344.000 36.827 1949.000   1949\n",
       "1 2132542.000 38.214 1950.000   1950\n",
       "2 2471044.000 39.648 1951.000   1951"
      ]
     },
     "execution_count": 4,
     "metadata": {},
     "output_type": "execute_result"
    }
   ],
   "source": [
    "# inspecting data: passengers should be, DATE_ should be index and better called year\n",
    "df.head(3)"
   ]
  },
  {
   "cell_type": "code",
   "execution_count": 5,
   "metadata": {},
   "outputs": [],
   "source": [
    "# setting year as index and dropping some columns\n",
    "df = (df.assign(year=lambda x: x['YEAR_'].astype(int))\n",
    "        .set_index('year')\n",
    "        .drop(columns=['YEAR_', 'DATE_'])\n",
    ")"
   ]
  },
  {
   "cell_type": "code",
   "execution_count": 6,
   "metadata": {},
   "outputs": [
    {
     "data": {
      "text/html": [
       "<div>\n",
       "<style scoped>\n",
       "    .dataframe tbody tr th:only-of-type {\n",
       "        vertical-align: middle;\n",
       "    }\n",
       "\n",
       "    .dataframe tbody tr th {\n",
       "        vertical-align: top;\n",
       "    }\n",
       "\n",
       "    .dataframe thead th {\n",
       "        text-align: right;\n",
       "    }\n",
       "</style>\n",
       "<table border=\"1\" class=\"dataframe\">\n",
       "  <thead>\n",
       "    <tr style=\"text-align: right;\">\n",
       "      <th></th>\n",
       "      <th>passengers</th>\n",
       "      <th>fpass</th>\n",
       "    </tr>\n",
       "    <tr>\n",
       "      <th>year</th>\n",
       "      <th></th>\n",
       "      <th></th>\n",
       "    </tr>\n",
       "  </thead>\n",
       "  <tbody>\n",
       "    <tr>\n",
       "      <th>1949</th>\n",
       "      <td>1839344.000</td>\n",
       "      <td>36.827</td>\n",
       "    </tr>\n",
       "    <tr>\n",
       "      <th>1950</th>\n",
       "      <td>2132542.000</td>\n",
       "      <td>38.214</td>\n",
       "    </tr>\n",
       "    <tr>\n",
       "      <th>1951</th>\n",
       "      <td>2471044.000</td>\n",
       "      <td>39.648</td>\n",
       "    </tr>\n",
       "  </tbody>\n",
       "</table>\n",
       "</div>"
      ],
      "text/plain": [
       "      passengers  fpass\n",
       "year                   \n",
       "1949 1839344.000 36.827\n",
       "1950 2132542.000 38.214\n",
       "1951 2471044.000 39.648"
      ]
     },
     "execution_count": 6,
     "metadata": {},
     "output_type": "execute_result"
    }
   ],
   "source": [
    "# nice and clean data\n",
    "df.head(3)"
   ]
  },
  {
   "cell_type": "code",
   "execution_count": 7,
   "metadata": {},
   "outputs": [],
   "source": [
    "# train the Holt model aka double smoothing\n",
    "double_smoothing = ExponentialSmoothing(df['fpass'], trend='additive', seasonal=None).fit()"
   ]
  },
  {
   "cell_type": "code",
   "execution_count": 8,
   "metadata": {},
   "outputs": [
    {
     "data": {
      "text/plain": [
       "{'smoothing_level': 1.0,\n",
       " 'smoothing_slope': 0.0,\n",
       " 'smoothing_seasonal': nan,\n",
       " 'damping_slope': nan,\n",
       " 'initial_level': 35.284900603016986,\n",
       " 'initial_slope': 1.5420480559717757,\n",
       " 'initial_seasons': array([], dtype=float64),\n",
       " 'use_boxcox': False,\n",
       " 'lamda': None,\n",
       " 'remove_bias': False}"
      ]
     },
     "execution_count": 8,
     "metadata": {},
     "output_type": "execute_result"
    }
   ],
   "source": [
    "# parameters found by model\n",
    "double_smoothing.params"
   ]
  },
  {
   "cell_type": "code",
   "execution_count": 9,
   "metadata": {},
   "outputs": [
    {
     "name": "stdout",
     "output_type": "stream",
     "text": [
      "SSE: 46.39590672859938\n",
      "RMSE: 0.9730648690396602\n"
     ]
    }
   ],
   "source": [
    "# Sum of Squared Errors of the residuals\n",
    "# and RMSE. Since there are 2 parameters (alpha and gamma), degrees of freedom is 2.\n",
    "sse = double_smoothing.sse\n",
    "rmse = np.sqrt(sse / (len(df) - 2))\n",
    "print(\"SSE: {}\\nRMSE: {}\".format(sse, rmse))"
   ]
  },
  {
   "cell_type": "code",
   "execution_count": 10,
   "metadata": {},
   "outputs": [],
   "source": [
    "# add fitted values and residuals to dataframe\n",
    "df['fpass_fitted'] = double_smoothing.fittedvalues\n",
    "df['fpass_resid'] = double_smoothing.resid"
   ]
  },
  {
   "cell_type": "code",
   "execution_count": 11,
   "metadata": {},
   "outputs": [
    {
     "data": {
      "text/plain": [
       "2000   115.471\n",
       "2001   117.013\n",
       "2002   118.555\n",
       "2003   120.098\n",
       "2004   121.640\n",
       "dtype: float64"
      ]
     },
     "execution_count": 11,
     "metadata": {},
     "output_type": "execute_result"
    }
   ],
   "source": [
    "# calculate predictions for the next 5 years\n",
    "predictions = double_smoothing.predict(start=len(df), end=len(df)+4)\n",
    "predictions.index = range(2000, 2005)\n",
    "predictions"
   ]
  },
  {
   "cell_type": "code",
   "execution_count": 12,
   "metadata": {},
   "outputs": [],
   "source": [
    "# concatenate the predictions to dataframe\n",
    "df = pd.concat([df, predictions]).rename(columns={0:'fpass_predicted'})"
   ]
  },
  {
   "cell_type": "code",
   "execution_count": 13,
   "metadata": {},
   "outputs": [
    {
     "data": {
      "text/html": [
       "<div>\n",
       "<style scoped>\n",
       "    .dataframe tbody tr th:only-of-type {\n",
       "        vertical-align: middle;\n",
       "    }\n",
       "\n",
       "    .dataframe tbody tr th {\n",
       "        vertical-align: top;\n",
       "    }\n",
       "\n",
       "    .dataframe thead th {\n",
       "        text-align: right;\n",
       "    }\n",
       "</style>\n",
       "<table border=\"1\" class=\"dataframe\">\n",
       "  <thead>\n",
       "    <tr style=\"text-align: right;\">\n",
       "      <th></th>\n",
       "      <th>passengers</th>\n",
       "      <th>fpass</th>\n",
       "      <th>fpass_fitted</th>\n",
       "      <th>fpass_resid</th>\n",
       "      <th>fpass_predicted</th>\n",
       "    </tr>\n",
       "  </thead>\n",
       "  <tbody>\n",
       "    <tr>\n",
       "      <th>1999</th>\n",
       "      <td>168477753.000</td>\n",
       "      <td>113.929</td>\n",
       "      <td>113.834</td>\n",
       "      <td>0.096</td>\n",
       "      <td>nan</td>\n",
       "    </tr>\n",
       "    <tr>\n",
       "      <th>2000</th>\n",
       "      <td>nan</td>\n",
       "      <td>nan</td>\n",
       "      <td>nan</td>\n",
       "      <td>nan</td>\n",
       "      <td>115.471</td>\n",
       "    </tr>\n",
       "    <tr>\n",
       "      <th>2001</th>\n",
       "      <td>nan</td>\n",
       "      <td>nan</td>\n",
       "      <td>nan</td>\n",
       "      <td>nan</td>\n",
       "      <td>117.013</td>\n",
       "    </tr>\n",
       "    <tr>\n",
       "      <th>2002</th>\n",
       "      <td>nan</td>\n",
       "      <td>nan</td>\n",
       "      <td>nan</td>\n",
       "      <td>nan</td>\n",
       "      <td>118.555</td>\n",
       "    </tr>\n",
       "    <tr>\n",
       "      <th>2003</th>\n",
       "      <td>nan</td>\n",
       "      <td>nan</td>\n",
       "      <td>nan</td>\n",
       "      <td>nan</td>\n",
       "      <td>120.098</td>\n",
       "    </tr>\n",
       "    <tr>\n",
       "      <th>2004</th>\n",
       "      <td>nan</td>\n",
       "      <td>nan</td>\n",
       "      <td>nan</td>\n",
       "      <td>nan</td>\n",
       "      <td>121.640</td>\n",
       "    </tr>\n",
       "  </tbody>\n",
       "</table>\n",
       "</div>"
      ],
      "text/plain": [
       "        passengers   fpass  fpass_fitted  fpass_resid  fpass_predicted\n",
       "1999 168477753.000 113.929       113.834        0.096              nan\n",
       "2000           nan     nan           nan          nan          115.471\n",
       "2001           nan     nan           nan          nan          117.013\n",
       "2002           nan     nan           nan          nan          118.555\n",
       "2003           nan     nan           nan          nan          120.098\n",
       "2004           nan     nan           nan          nan          121.640"
      ]
     },
     "execution_count": 13,
     "metadata": {},
     "output_type": "execute_result"
    }
   ],
   "source": [
    "# check predictions\n",
    "df.tail(6)"
   ]
  },
  {
   "cell_type": "code",
   "execution_count": 14,
   "metadata": {},
   "outputs": [
    {
     "data": {
      "image/png": "[encoded data removed]",
      "text/plain": [
       "<Figure size 700x450 with 1 Axes>"
      ]
     },
     "metadata": {},
     "output_type": "display_data"
    }
   ],
   "source": [
    "# plot results for fpass: original, fitted and predicted\n",
    "df[['fpass', 'fpass_fitted', 'fpass_predicted']].plot(\n",
    "    color=['grey', 'blue', 'green'],\n",
    "    style=['-','-',':'],\n",
    ")\n",
    "sns.despine();"
   ]
  },
  {
   "cell_type": "code",
   "execution_count": 15,
   "metadata": {},
   "outputs": [],
   "source": [
    "# calculate real passenger numbers\n",
    "df['passengers_fitted'] = df['fpass_fitted'] ** 4.0\n",
    "df['passengers_predicted'] = df['fpass_predicted'] ** 4.0\n",
    "df['passengers_residual'] = df['passengers'] - df['passengers_fitted']"
   ]
  },
  {
   "cell_type": "code",
   "execution_count": 16,
   "metadata": {},
   "outputs": [
    {
     "data": {
      "text/html": [
       "<div>\n",
       "<style scoped>\n",
       "    .dataframe tbody tr th:only-of-type {\n",
       "        vertical-align: middle;\n",
       "    }\n",
       "\n",
       "    .dataframe tbody tr th {\n",
       "        vertical-align: top;\n",
       "    }\n",
       "\n",
       "    .dataframe thead th {\n",
       "        text-align: right;\n",
       "    }\n",
       "</style>\n",
       "<table border=\"1\" class=\"dataframe\">\n",
       "  <thead>\n",
       "    <tr style=\"text-align: right;\">\n",
       "      <th></th>\n",
       "      <th>passengers</th>\n",
       "      <th>fpass</th>\n",
       "      <th>fpass_fitted</th>\n",
       "      <th>fpass_resid</th>\n",
       "      <th>fpass_predicted</th>\n",
       "      <th>passengers_fitted</th>\n",
       "      <th>passengers_predicted</th>\n",
       "      <th>passengers_residual</th>\n",
       "    </tr>\n",
       "  </thead>\n",
       "  <tbody>\n",
       "    <tr>\n",
       "      <th>1995</th>\n",
       "      <td>129586056.000</td>\n",
       "      <td>106.694</td>\n",
       "      <td>106.717</td>\n",
       "      <td>-0.024</td>\n",
       "      <td>nan</td>\n",
       "      <td>129700734.428</td>\n",
       "      <td>nan</td>\n",
       "      <td>-114678.428</td>\n",
       "    </tr>\n",
       "    <tr>\n",
       "      <th>1996</th>\n",
       "      <td>135997845.000</td>\n",
       "      <td>107.990</td>\n",
       "      <td>108.236</td>\n",
       "      <td>-0.246</td>\n",
       "      <td>nan</td>\n",
       "      <td>137241676.494</td>\n",
       "      <td>nan</td>\n",
       "      <td>-1243831.494</td>\n",
       "    </tr>\n",
       "    <tr>\n",
       "      <th>1997</th>\n",
       "      <td>146822932.000</td>\n",
       "      <td>110.077</td>\n",
       "      <td>109.532</td>\n",
       "      <td>0.546</td>\n",
       "      <td>nan</td>\n",
       "      <td>143933778.077</td>\n",
       "      <td>nan</td>\n",
       "      <td>2889153.923</td>\n",
       "    </tr>\n",
       "    <tr>\n",
       "      <th>1998</th>\n",
       "      <td>158996788.000</td>\n",
       "      <td>112.292</td>\n",
       "      <td>111.620</td>\n",
       "      <td>0.672</td>\n",
       "      <td>nan</td>\n",
       "      <td>155224655.856</td>\n",
       "      <td>nan</td>\n",
       "      <td>3772132.144</td>\n",
       "    </tr>\n",
       "    <tr>\n",
       "      <th>1999</th>\n",
       "      <td>168477753.000</td>\n",
       "      <td>113.929</td>\n",
       "      <td>113.834</td>\n",
       "      <td>0.096</td>\n",
       "      <td>nan</td>\n",
       "      <td>167912062.810</td>\n",
       "      <td>nan</td>\n",
       "      <td>565690.190</td>\n",
       "    </tr>\n",
       "    <tr>\n",
       "      <th>2000</th>\n",
       "      <td>nan</td>\n",
       "      <td>nan</td>\n",
       "      <td>nan</td>\n",
       "      <td>nan</td>\n",
       "      <td>115.471</td>\n",
       "      <td>nan</td>\n",
       "      <td>177786089.771</td>\n",
       "      <td>nan</td>\n",
       "    </tr>\n",
       "    <tr>\n",
       "      <th>2001</th>\n",
       "      <td>nan</td>\n",
       "      <td>nan</td>\n",
       "      <td>nan</td>\n",
       "      <td>nan</td>\n",
       "      <td>117.013</td>\n",
       "      <td>nan</td>\n",
       "      <td>187474912.699</td>\n",
       "      <td>nan</td>\n",
       "    </tr>\n",
       "    <tr>\n",
       "      <th>2002</th>\n",
       "      <td>nan</td>\n",
       "      <td>nan</td>\n",
       "      <td>nan</td>\n",
       "      <td>nan</td>\n",
       "      <td>118.555</td>\n",
       "      <td>nan</td>\n",
       "      <td>197554451.642</td>\n",
       "      <td>nan</td>\n",
       "    </tr>\n",
       "    <tr>\n",
       "      <th>2003</th>\n",
       "      <td>nan</td>\n",
       "      <td>nan</td>\n",
       "      <td>nan</td>\n",
       "      <td>nan</td>\n",
       "      <td>120.098</td>\n",
       "      <td>nan</td>\n",
       "      <td>208035072.165</td>\n",
       "      <td>nan</td>\n",
       "    </tr>\n",
       "    <tr>\n",
       "      <th>2004</th>\n",
       "      <td>nan</td>\n",
       "      <td>nan</td>\n",
       "      <td>nan</td>\n",
       "      <td>nan</td>\n",
       "      <td>121.640</td>\n",
       "      <td>nan</td>\n",
       "      <td>218927275.543</td>\n",
       "      <td>nan</td>\n",
       "    </tr>\n",
       "  </tbody>\n",
       "</table>\n",
       "</div>"
      ],
      "text/plain": [
       "        passengers   fpass  fpass_fitted  fpass_resid  fpass_predicted  \\\n",
       "1995 129586056.000 106.694       106.717       -0.024              nan   \n",
       "1996 135997845.000 107.990       108.236       -0.246              nan   \n",
       "1997 146822932.000 110.077       109.532        0.546              nan   \n",
       "1998 158996788.000 112.292       111.620        0.672              nan   \n",
       "1999 168477753.000 113.929       113.834        0.096              nan   \n",
       "2000           nan     nan           nan          nan          115.471   \n",
       "2001           nan     nan           nan          nan          117.013   \n",
       "2002           nan     nan           nan          nan          118.555   \n",
       "2003           nan     nan           nan          nan          120.098   \n",
       "2004           nan     nan           nan          nan          121.640   \n",
       "\n",
       "      passengers_fitted  passengers_predicted  passengers_residual  \n",
       "1995      129700734.428                   nan          -114678.428  \n",
       "1996      137241676.494                   nan         -1243831.494  \n",
       "1997      143933778.077                   nan          2889153.923  \n",
       "1998      155224655.856                   nan          3772132.144  \n",
       "1999      167912062.810                   nan           565690.190  \n",
       "2000                nan         177786089.771                  nan  \n",
       "2001                nan         187474912.699                  nan  \n",
       "2002                nan         197554451.642                  nan  \n",
       "2003                nan         208035072.165                  nan  \n",
       "2004                nan         218927275.543                  nan  "
      ]
     },
     "execution_count": 16,
     "metadata": {},
     "output_type": "execute_result"
    }
   ],
   "source": [
    "# show current dataframe\n",
    "df.tail(10)"
   ]
  },
  {
   "cell_type": "code",
   "execution_count": 17,
   "metadata": {},
   "outputs": [
    {
     "data": {
      "image/png": "[encoded data removed]",
      "text/plain": [
       "<Figure size 700x450 with 1 Axes>"
      ]
     },
     "metadata": {},
     "output_type": "display_data"
    }
   ],
   "source": [
    "# plot results for real passenger numbers: original, fitted and predicted\n",
    "df[['passengers', 'passengers_fitted', 'passengers_predicted']].plot(\n",
    "    color=['grey', 'blue', 'green'],\n",
    "    style=['-','-',':'],\n",
    ")\n",
    "sns.despine();"
   ]
  }
 ],
 "metadata": {
  "kernelspec": {
   "display_name": "openu3",
   "language": "python",
   "name": "openu3"
  },
  "language_info": {
   "codemirror_mode": {
    "name": "ipython",
    "version": 3
   },
   "file_extension": ".py",
   "mimetype": "text/x-python",
   "name": "python",
   "nbconvert_exporter": "python",
   "pygments_lexer": "ipython3",
   "version": "3.6.2"
  }
 },
 "nbformat": 4,
 "nbformat_minor": 2
}
