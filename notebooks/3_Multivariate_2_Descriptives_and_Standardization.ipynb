{
 "cells": [
  {
   "cell_type": "markdown",
   "metadata": {},
   "source": [
    "# Numerical summaries and standardization of multivariate data\n",
    "\n",
    "Doing the folowing calculations:\n",
    "* mean vector and (sample) standard deviation (using pandas describe)\n",
    "* standardizing data (using numpy / pandas)\n",
    "* covariance matrix (using np.cov / pandas)\n",
    "* correlation matrix (using pd.corr)"
   ]
  },
  {
   "cell_type": "code",
   "execution_count": 1,
   "metadata": {},
   "outputs": [
    {
     "data": {
      "text/html": [
       "<div>\n",
       "<style scoped>\n",
       "    .dataframe tbody tr th:only-of-type {\n",
       "        vertical-align: middle;\n",
       "    }\n",
       "\n",
       "    .dataframe tbody tr th {\n",
       "        vertical-align: top;\n",
       "    }\n",
       "\n",
       "    .dataframe thead th {\n",
       "        text-align: right;\n",
       "    }\n",
       "</style>\n",
       "<table border=\"1\" class=\"dataframe\">\n",
       "  <thead>\n",
       "    <tr style=\"text-align: right;\">\n",
       "      <th></th>\n",
       "      <th>region</th>\n",
       "      <th>authority</th>\n",
       "      <th>houseprice</th>\n",
       "      <th>income</th>\n",
       "    </tr>\n",
       "  </thead>\n",
       "  <tbody>\n",
       "    <tr>\n",
       "      <th>0</th>\n",
       "      <td>East Midlands</td>\n",
       "      <td>Amber Valley</td>\n",
       "      <td>84828.000</td>\n",
       "      <td>28509.000</td>\n",
       "    </tr>\n",
       "    <tr>\n",
       "      <th>1</th>\n",
       "      <td>East Midlands</td>\n",
       "      <td>Bolsover</td>\n",
       "      <td>72854.000</td>\n",
       "      <td>23322.000</td>\n",
       "    </tr>\n",
       "    <tr>\n",
       "      <th>2</th>\n",
       "      <td>East Midlands</td>\n",
       "      <td>Chesterfield</td>\n",
       "      <td>92295.000</td>\n",
       "      <td>28409.000</td>\n",
       "    </tr>\n",
       "  </tbody>\n",
       "</table>\n",
       "</div>"
      ],
      "text/plain": [
       "          region                  authority  houseprice    income\n",
       "0  East Midlands  Amber Valley                84828.000 28509.000\n",
       "1  East Midlands  Bolsover                    72854.000 23322.000\n",
       "2  East Midlands  Chesterfield                92295.000 28409.000"
      ]
     },
     "execution_count": 1,
     "metadata": {},
     "output_type": "execute_result"
    }
   ],
   "source": [
    "df = pd.read_csv('./data/housing.csv', header=0)\n",
    "df.head(3)"
   ]
  },
  {
   "cell_type": "markdown",
   "metadata": {},
   "source": [
    "## Calculate mean and sample standard deviation\n",
    "The standard deviation calculated by describe is the sample standard deviation, so degrees of freedom = 1."
   ]
  },
  {
   "cell_type": "code",
   "execution_count": 2,
   "metadata": {},
   "outputs": [
    {
     "data": {
      "text/html": [
       "<div>\n",
       "<style scoped>\n",
       "    .dataframe tbody tr th:only-of-type {\n",
       "        vertical-align: middle;\n",
       "    }\n",
       "\n",
       "    .dataframe tbody tr th {\n",
       "        vertical-align: top;\n",
       "    }\n",
       "\n",
       "    .dataframe thead th {\n",
       "        text-align: right;\n",
       "    }\n",
       "</style>\n",
       "<table border=\"1\" class=\"dataframe\">\n",
       "  <thead>\n",
       "    <tr style=\"text-align: right;\">\n",
       "      <th></th>\n",
       "      <th>count</th>\n",
       "      <th>mean</th>\n",
       "      <th>std</th>\n",
       "      <th>min</th>\n",
       "      <th>25%</th>\n",
       "      <th>50%</th>\n",
       "      <th>75%</th>\n",
       "      <th>max</th>\n",
       "    </tr>\n",
       "  </thead>\n",
       "  <tbody>\n",
       "    <tr>\n",
       "      <th>houseprice</th>\n",
       "      <td>353.000</td>\n",
       "      <td>121054.011</td>\n",
       "      <td>61563.273</td>\n",
       "      <td>50195.000</td>\n",
       "      <td>80676.000</td>\n",
       "      <td>110574.000</td>\n",
       "      <td>145507.000</td>\n",
       "      <td>617433.000</td>\n",
       "    </tr>\n",
       "    <tr>\n",
       "      <th>income</th>\n",
       "      <td>353.000</td>\n",
       "      <td>33426.703</td>\n",
       "      <td>8990.826</td>\n",
       "      <td>18387.000</td>\n",
       "      <td>27608.000</td>\n",
       "      <td>31483.000</td>\n",
       "      <td>37318.000</td>\n",
       "      <td>98553.000</td>\n",
       "    </tr>\n",
       "  </tbody>\n",
       "</table>\n",
       "</div>"
      ],
      "text/plain": [
       "             count       mean       std       min       25%        50%  \\\n",
       "houseprice 353.000 121054.011 61563.273 50195.000 80676.000 110574.000   \n",
       "income     353.000  33426.703  8990.826 18387.000 27608.000  31483.000   \n",
       "\n",
       "                  75%        max  \n",
       "houseprice 145507.000 617433.000  \n",
       "income      37318.000  98553.000  "
      ]
     },
     "execution_count": 2,
     "metadata": {},
     "output_type": "execute_result"
    }
   ],
   "source": [
    "df.describe().transpose()"
   ]
  },
  {
   "cell_type": "markdown",
   "metadata": {},
   "source": [
    "### Calculate mean per group"
   ]
  },
  {
   "cell_type": "code",
   "execution_count": 3,
   "metadata": {},
   "outputs": [
    {
     "data": {
      "text/html": [
       "<div>\n",
       "<style scoped>\n",
       "    .dataframe tbody tr th:only-of-type {\n",
       "        vertical-align: middle;\n",
       "    }\n",
       "\n",
       "    .dataframe tbody tr th {\n",
       "        vertical-align: top;\n",
       "    }\n",
       "\n",
       "    .dataframe thead th {\n",
       "        text-align: right;\n",
       "    }\n",
       "</style>\n",
       "<table border=\"1\" class=\"dataframe\">\n",
       "  <thead>\n",
       "    <tr style=\"text-align: right;\">\n",
       "      <th></th>\n",
       "      <th>region</th>\n",
       "      <th>income</th>\n",
       "      <th>houseprice</th>\n",
       "    </tr>\n",
       "    <tr>\n",
       "      <th>region</th>\n",
       "      <th></th>\n",
       "      <th></th>\n",
       "      <th></th>\n",
       "    </tr>\n",
       "  </thead>\n",
       "  <tbody>\n",
       "    <tr>\n",
       "      <th>North East</th>\n",
       "      <td>23</td>\n",
       "      <td>27518.652</td>\n",
       "      <td>61835.696</td>\n",
       "    </tr>\n",
       "    <tr>\n",
       "      <th>North West</th>\n",
       "      <td>43</td>\n",
       "      <td>28380.581</td>\n",
       "      <td>69140.651</td>\n",
       "    </tr>\n",
       "    <tr>\n",
       "      <th>Yorkshire and Humberside</th>\n",
       "      <td>21</td>\n",
       "      <td>28448.000</td>\n",
       "      <td>70378.762</td>\n",
       "    </tr>\n",
       "    <tr>\n",
       "      <th>South West</th>\n",
       "      <td>44</td>\n",
       "      <td>28710.227</td>\n",
       "      <td>126463.932</td>\n",
       "    </tr>\n",
       "    <tr>\n",
       "      <th>East Midlands</th>\n",
       "      <td>40</td>\n",
       "      <td>29843.175</td>\n",
       "      <td>90586.375</td>\n",
       "    </tr>\n",
       "    <tr>\n",
       "      <th>West Midlands</th>\n",
       "      <td>34</td>\n",
       "      <td>32674.618</td>\n",
       "      <td>97331.118</td>\n",
       "    </tr>\n",
       "    <tr>\n",
       "      <th>Eastern</th>\n",
       "      <td>48</td>\n",
       "      <td>33710.042</td>\n",
       "      <td>127184.938</td>\n",
       "    </tr>\n",
       "    <tr>\n",
       "      <th>South East</th>\n",
       "      <td>67</td>\n",
       "      <td>38995.373</td>\n",
       "      <td>157372.776</td>\n",
       "    </tr>\n",
       "    <tr>\n",
       "      <th>London</th>\n",
       "      <td>33</td>\n",
       "      <td>46976.909</td>\n",
       "      <td>233723.152</td>\n",
       "    </tr>\n",
       "  </tbody>\n",
       "</table>\n",
       "</div>"
      ],
      "text/plain": [
       "                          region    income  houseprice\n",
       "region                                                \n",
       "North East                    23 27518.652   61835.696\n",
       "North West                    43 28380.581   69140.651\n",
       "Yorkshire and Humberside      21 28448.000   70378.762\n",
       "South West                    44 28710.227  126463.932\n",
       "East Midlands                 40 29843.175   90586.375\n",
       "West Midlands                 34 32674.618   97331.118\n",
       "Eastern                       48 33710.042  127184.938\n",
       "South East                    67 38995.373  157372.776\n",
       "London                        33 46976.909  233723.152"
      ]
     },
     "execution_count": 3,
     "metadata": {},
     "output_type": "execute_result"
    }
   ],
   "source": [
    "mean_per_group = (df\n",
    "    .groupby('region')\n",
    "    .agg({'region': np.size, 'income': np.mean, 'houseprice': np.mean, })\n",
    "    .sort_values(by='income')\n",
    ")\n",
    "mean_per_group"
   ]
  },
  {
   "cell_type": "markdown",
   "metadata": {},
   "source": [
    "#### It's always good to visualize your numbers:  \n",
    "London and South West jump out: the distance in the graph between income and houseprice is much smaller in those regions."
   ]
  },
  {
   "cell_type": "code",
   "execution_count": 4,
   "metadata": {},
   "outputs": [
    {
     "data": {
      "image/png": "[encoded data removed]",
      "text/plain": [
       "<Figure size 1000x500 with 2 Axes>"
      ]
     },
     "metadata": {},
     "output_type": "display_data"
    }
   ],
   "source": [
    "ax = mean_per_group[['houseprice', 'income']].plot(\n",
    "    secondary_y=['houseprice'], \n",
    "    kind='line',\n",
    "    style='-o',\n",
    "    figsize=(10,5), \n",
    "    rot=75,\n",
    ")\n",
    "ax.set(title='house price and income per region', ylabel='income', ylim=(0, 50000))\n",
    "plt.xticks(ticks=range(len(mean_per_group)), labels=mean_per_group.index)\n",
    "\n",
    "# add ylabel and ylim for the secondary y-axis houseprice\n",
    "plt.ylabel('house price', rotation=-90)\n",
    "plt.ylim((0, 250000))\n",
    "\n",
    "# make plot nicer\n",
    "sns.despine(right=False)\n",
    "plt.tight_layout();"
   ]
  },
  {
   "cell_type": "markdown",
   "metadata": {},
   "source": [
    "## Standardizing data  \n",
    "\n",
    "To standardize a variable you apply the following formula to every value:  \n",
    "$ z_{i1} = \\dfrac{x_{i1} - \\bar{x_1}}{s_1}$ where $s_1$ is the sampling standard deviation of variable $X_1$\n",
    "\n",
    "There is difference between using pandas or scikit learn to standardize your data.  \n",
    "Pandas uses 1 degree of freedom (sample sd), while scikit uses 0 degrees of freedom (population sd)."
   ]
  },
  {
   "cell_type": "markdown",
   "metadata": {},
   "source": [
    "### Standardizing the pandas way  \n",
    "This uses 1 degree of freedom to calculate the sample sd."
   ]
  },
  {
   "cell_type": "code",
   "execution_count": 5,
   "metadata": {},
   "outputs": [],
   "source": [
    "num_columns = ['houseprice', 'income']\n",
    "df_zscores = (df[num_columns] - df[num_columns].mean()) / df[num_columns].std(ddof=1)\n",
    "df = df.join(df_zscores, rsuffix='_z')"
   ]
  },
  {
   "cell_type": "code",
   "execution_count": 6,
   "metadata": {},
   "outputs": [
    {
     "data": {
      "text/html": [
       "<div>\n",
       "<style scoped>\n",
       "    .dataframe tbody tr th:only-of-type {\n",
       "        vertical-align: middle;\n",
       "    }\n",
       "\n",
       "    .dataframe tbody tr th {\n",
       "        vertical-align: top;\n",
       "    }\n",
       "\n",
       "    .dataframe thead th {\n",
       "        text-align: right;\n",
       "    }\n",
       "</style>\n",
       "<table border=\"1\" class=\"dataframe\">\n",
       "  <thead>\n",
       "    <tr style=\"text-align: right;\">\n",
       "      <th></th>\n",
       "      <th>region</th>\n",
       "      <th>authority</th>\n",
       "      <th>houseprice</th>\n",
       "      <th>income</th>\n",
       "      <th>houseprice_z</th>\n",
       "      <th>income_z</th>\n",
       "    </tr>\n",
       "  </thead>\n",
       "  <tbody>\n",
       "    <tr>\n",
       "      <th>0</th>\n",
       "      <td>East Midlands</td>\n",
       "      <td>Amber Valley</td>\n",
       "      <td>84828.000</td>\n",
       "      <td>28509.000</td>\n",
       "      <td>-0.588</td>\n",
       "      <td>-0.547</td>\n",
       "    </tr>\n",
       "    <tr>\n",
       "      <th>1</th>\n",
       "      <td>East Midlands</td>\n",
       "      <td>Bolsover</td>\n",
       "      <td>72854.000</td>\n",
       "      <td>23322.000</td>\n",
       "      <td>-0.783</td>\n",
       "      <td>-1.124</td>\n",
       "    </tr>\n",
       "    <tr>\n",
       "      <th>2</th>\n",
       "      <td>East Midlands</td>\n",
       "      <td>Chesterfield</td>\n",
       "      <td>92295.000</td>\n",
       "      <td>28409.000</td>\n",
       "      <td>-0.467</td>\n",
       "      <td>-0.558</td>\n",
       "    </tr>\n",
       "  </tbody>\n",
       "</table>\n",
       "</div>"
      ],
      "text/plain": [
       "          region                  authority  houseprice    income  \\\n",
       "0  East Midlands  Amber Valley                84828.000 28509.000   \n",
       "1  East Midlands  Bolsover                    72854.000 23322.000   \n",
       "2  East Midlands  Chesterfield                92295.000 28409.000   \n",
       "\n",
       "   houseprice_z  income_z  \n",
       "0        -0.588    -0.547  \n",
       "1        -0.783    -1.124  \n",
       "2        -0.467    -0.558  "
      ]
     },
     "execution_count": 6,
     "metadata": {},
     "output_type": "execute_result"
    }
   ],
   "source": [
    "df.head(3)"
   ]
  },
  {
   "cell_type": "markdown",
   "metadata": {},
   "source": [
    "### Standardizing the sklearn way\n",
    "\n",
    "If you use scikit learn to scale / standardize your data, this uses 0 degrees of freedom for the standard deviation (= population sd), so this gives different results.  \n",
    "Technically this is wrong, but if you're using it for machine learning, it probably won't affect your final machine learning model. "
   ]
  },
  {
   "cell_type": "code",
   "execution_count": 7,
   "metadata": {},
   "outputs": [
    {
     "data": {
      "text/plain": [
       "array([[-0.58927069, -0.54774532],\n",
       "       [-0.78404585, -1.12548563],\n",
       "       [-0.46780867, -0.55888356]])"
      ]
     },
     "execution_count": 7,
     "metadata": {},
     "output_type": "execute_result"
    }
   ],
   "source": [
    "from sklearn.preprocessing import scale\n",
    "scale(df[num_columns], with_mean=True, with_std=True)[0:3]"
   ]
  },
  {
   "cell_type": "markdown",
   "metadata": {},
   "source": [
    "### Plotting the standardized values  \n",
    "There are some clear outliers :)  \n",
    "Interactivity with plotly is nice, but still quite verbose..."
   ]
  },
  {
   "cell_type": "code",
   "execution_count": 8,
   "metadata": {},
   "outputs": [
    {
     "data": {
      "application/vnd.jupyter.widget-view+json": {
       "model_id": "18619929fc184fe49fbf4ec25a8be609",
       "version_major": 2,
       "version_minor": 0
      },
      "text/plain": [
       "FigureWidget({\n",
       "    'data': [{'hoverinfo': 'x+y+text+name',\n",
       "              'mode': 'markers',\n",
       "              'nam…"
      ]
     },
     "metadata": {},
     "output_type": "display_data"
    }
   ],
   "source": [
    "import plotly.graph_objs as go\n",
    "\n",
    "fig = go.FigureWidget(\n",
    "    data=[\n",
    "        {\n",
    "            'x': df[df.region == region]['income_z'],\n",
    "            'y': df[df.region == region]['houseprice_z'],\n",
    "            'name': region,\n",
    "            'text': df[df.region == region]['authority'],\n",
    "            'hoverinfo': 'x+y+text+name',\n",
    "            'mode': 'markers',\n",
    "            'type': 'scatter',\n",
    "        } for region in df.region.unique().tolist()\n",
    "    ], \n",
    "    layout={\n",
    "        'title': 'Relationship standardized income and household',\n",
    "        'xaxis': {'range': [-2, 9], 'title': 'income_z'},\n",
    "        'yaxis': {'range': [-2, 9], 'title': 'houseprice_z'},\n",
    "        'width': 1000,  # size of plot\n",
    "        'height': 500,  # size of plot\n",
    "        'hovermode': 'closest',\n",
    "    }\n",
    ")\n",
    "fig"
   ]
  },
  {
   "cell_type": "markdown",
   "metadata": {},
   "source": [
    "## Calculate correlation matrix"
   ]
  },
  {
   "cell_type": "markdown",
   "metadata": {},
   "source": [
    "#### Reading the data"
   ]
  },
  {
   "cell_type": "code",
   "execution_count": 9,
   "metadata": {},
   "outputs": [
    {
     "data": {
      "text/html": [
       "<div>\n",
       "<style scoped>\n",
       "    .dataframe tbody tr th:only-of-type {\n",
       "        vertical-align: middle;\n",
       "    }\n",
       "\n",
       "    .dataframe tbody tr th {\n",
       "        vertical-align: top;\n",
       "    }\n",
       "\n",
       "    .dataframe thead th {\n",
       "        text-align: right;\n",
       "    }\n",
       "</style>\n",
       "<table border=\"1\" class=\"dataframe\">\n",
       "  <thead>\n",
       "    <tr style=\"text-align: right;\">\n",
       "      <th></th>\n",
       "      <th>age</th>\n",
       "      <th>geometry</th>\n",
       "      <th>arithmetic</th>\n",
       "      <th>algebra</th>\n",
       "    </tr>\n",
       "  </thead>\n",
       "  <tbody>\n",
       "    <tr>\n",
       "      <th>0</th>\n",
       "      <td>16.250</td>\n",
       "      <td>55.000</td>\n",
       "      <td>49.000</td>\n",
       "      <td>41.000</td>\n",
       "    </tr>\n",
       "    <tr>\n",
       "      <th>1</th>\n",
       "      <td>15.417</td>\n",
       "      <td>48.000</td>\n",
       "      <td>93.000</td>\n",
       "      <td>79.000</td>\n",
       "    </tr>\n",
       "    <tr>\n",
       "      <th>2</th>\n",
       "      <td>14.917</td>\n",
       "      <td>85.000</td>\n",
       "      <td>65.000</td>\n",
       "      <td>62.000</td>\n",
       "    </tr>\n",
       "  </tbody>\n",
       "</table>\n",
       "</div>"
      ],
      "text/plain": [
       "     age  geometry  arithmetic  algebra\n",
       "0 16.250    55.000      49.000   41.000\n",
       "1 15.417    48.000      93.000   79.000\n",
       "2 14.917    85.000      65.000   62.000"
      ]
     },
     "execution_count": 9,
     "metadata": {},
     "output_type": "execute_result"
    }
   ],
   "source": [
    "df_math = pd.read_csv(\n",
    "    './data/mathsability.csv', \n",
    "    header=0, \n",
    "    usecols=['age', 'geometry', 'arithmetic', 'algebra'],\n",
    ")\n",
    "df_math.head(3)"
   ]
  },
  {
   "cell_type": "markdown",
   "metadata": {},
   "source": [
    "#### Checking the ranges of the data with a boxplot"
   ]
  },
  {
   "cell_type": "code",
   "execution_count": 10,
   "metadata": {},
   "outputs": [
    {
     "data": {
      "image/png": "[encoded data removed]",
      "text/plain": [
       "<Figure size 700x450 with 1 Axes>"
      ]
     },
     "metadata": {},
     "output_type": "display_data"
    }
   ],
   "source": [
    "df_math.plot(kind='box');"
   ]
  },
  {
   "cell_type": "markdown",
   "metadata": {},
   "source": [
    "#### Calculating covariance matrix with numpy cov"
   ]
  },
  {
   "cell_type": "code",
   "execution_count": 11,
   "metadata": {},
   "outputs": [
    {
     "data": {
      "text/html": [
       "<div>\n",
       "<style scoped>\n",
       "    .dataframe tbody tr th:only-of-type {\n",
       "        vertical-align: middle;\n",
       "    }\n",
       "\n",
       "    .dataframe tbody tr th {\n",
       "        vertical-align: top;\n",
       "    }\n",
       "\n",
       "    .dataframe thead th {\n",
       "        text-align: right;\n",
       "    }\n",
       "</style>\n",
       "<table border=\"1\" class=\"dataframe\">\n",
       "  <thead>\n",
       "    <tr style=\"text-align: right;\">\n",
       "      <th></th>\n",
       "      <th>age</th>\n",
       "      <th>geometry</th>\n",
       "      <th>arithmetic</th>\n",
       "      <th>algebra</th>\n",
       "    </tr>\n",
       "  </thead>\n",
       "  <tbody>\n",
       "    <tr>\n",
       "      <th>age</th>\n",
       "      <td>1.456</td>\n",
       "      <td>3.030</td>\n",
       "      <td>0.049</td>\n",
       "      <td>4.812</td>\n",
       "    </tr>\n",
       "    <tr>\n",
       "      <th>geometry</th>\n",
       "      <td>3.030</td>\n",
       "      <td>637.597</td>\n",
       "      <td>330.666</td>\n",
       "      <td>327.306</td>\n",
       "    </tr>\n",
       "    <tr>\n",
       "      <th>arithmetic</th>\n",
       "      <td>0.049</td>\n",
       "      <td>330.666</td>\n",
       "      <td>588.932</td>\n",
       "      <td>383.768</td>\n",
       "    </tr>\n",
       "    <tr>\n",
       "      <th>algebra</th>\n",
       "      <td>4.812</td>\n",
       "      <td>327.306</td>\n",
       "      <td>383.768</td>\n",
       "      <td>559.712</td>\n",
       "    </tr>\n",
       "  </tbody>\n",
       "</table>\n",
       "</div>"
      ],
      "text/plain": [
       "             age  geometry  arithmetic  algebra\n",
       "age        1.456     3.030       0.049    4.812\n",
       "geometry   3.030   637.597     330.666  327.306\n",
       "arithmetic 0.049   330.666     588.932  383.768\n",
       "algebra    4.812   327.306     383.768  559.712"
      ]
     },
     "execution_count": 11,
     "metadata": {},
     "output_type": "execute_result"
    }
   ],
   "source": [
    "numpy_cov_matrix = np.cov(df_math, rowvar=False)\n",
    "cov_matrix = pd.DataFrame(\n",
    "    numpy_cov_matrix, \n",
    "    columns=df_math.columns, \n",
    "    index=df_math.columns\n",
    ")\n",
    "cov_matrix"
   ]
  },
  {
   "cell_type": "markdown",
   "metadata": {},
   "source": [
    "#### Calculating correlation matrix with pandas\n",
    "Nice and easy"
   ]
  },
  {
   "cell_type": "code",
   "execution_count": 12,
   "metadata": {},
   "outputs": [
    {
     "data": {
      "text/html": [
       "<div>\n",
       "<style scoped>\n",
       "    .dataframe tbody tr th:only-of-type {\n",
       "        vertical-align: middle;\n",
       "    }\n",
       "\n",
       "    .dataframe tbody tr th {\n",
       "        vertical-align: top;\n",
       "    }\n",
       "\n",
       "    .dataframe thead th {\n",
       "        text-align: right;\n",
       "    }\n",
       "</style>\n",
       "<table border=\"1\" class=\"dataframe\">\n",
       "  <thead>\n",
       "    <tr style=\"text-align: right;\">\n",
       "      <th></th>\n",
       "      <th>age</th>\n",
       "      <th>geometry</th>\n",
       "      <th>arithmetic</th>\n",
       "      <th>algebra</th>\n",
       "    </tr>\n",
       "  </thead>\n",
       "  <tbody>\n",
       "    <tr>\n",
       "      <th>age</th>\n",
       "      <td>1.000</td>\n",
       "      <td>0.099</td>\n",
       "      <td>0.002</td>\n",
       "      <td>0.169</td>\n",
       "    </tr>\n",
       "    <tr>\n",
       "      <th>geometry</th>\n",
       "      <td>0.099</td>\n",
       "      <td>1.000</td>\n",
       "      <td>0.540</td>\n",
       "      <td>0.548</td>\n",
       "    </tr>\n",
       "    <tr>\n",
       "      <th>arithmetic</th>\n",
       "      <td>0.002</td>\n",
       "      <td>0.540</td>\n",
       "      <td>1.000</td>\n",
       "      <td>0.668</td>\n",
       "    </tr>\n",
       "    <tr>\n",
       "      <th>algebra</th>\n",
       "      <td>0.169</td>\n",
       "      <td>0.548</td>\n",
       "      <td>0.668</td>\n",
       "      <td>1.000</td>\n",
       "    </tr>\n",
       "  </tbody>\n",
       "</table>\n",
       "</div>"
      ],
      "text/plain": [
       "             age  geometry  arithmetic  algebra\n",
       "age        1.000     0.099       0.002    0.169\n",
       "geometry   0.099     1.000       0.540    0.548\n",
       "arithmetic 0.002     0.540       1.000    0.668\n",
       "algebra    0.169     0.548       0.668    1.000"
      ]
     },
     "execution_count": 12,
     "metadata": {},
     "output_type": "execute_result"
    }
   ],
   "source": [
    "df_math.corr()"
   ]
  },
  {
   "cell_type": "markdown",
   "metadata": {},
   "source": [
    "#### P-values for your correlations  \n",
    "Unfortunately I have to write my own custom function to get an overview of all p-values"
   ]
  },
  {
   "cell_type": "code",
   "execution_count": 13,
   "metadata": {},
   "outputs": [],
   "source": [
    "from scipy.stats import pearsonr"
   ]
  },
  {
   "cell_type": "code",
   "execution_count": 14,
   "metadata": {},
   "outputs": [],
   "source": [
    "columns = df_math.columns\n",
    "size_needed = columns.size\n",
    "corr_matrix = np.zeros((size_needed, size_needed))\n",
    "pvalues_matrix = np.zeros((size_needed, size_needed))\n",
    "\n",
    "# calculate for every combination of 2 columns the correlation with scipy.stats.pearsonr, \n",
    "# so you also right away get the pvalue of the correlation\n",
    "# this looks bad, because it's not vectorized\n",
    "for row_nr in range(size_needed):\n",
    "    for col_nr in range(size_needed):\n",
    "        if row_nr != col_nr:\n",
    "            correlation, pvalue = pearsonr(\n",
    "                df_math.iloc[:, row_nr], \n",
    "                df_math.iloc[:, col_nr]\n",
    "            )\n",
    "            corr_matrix[row_nr][col_nr] = correlation\n",
    "            pvalues_matrix[row_nr][col_nr] = pvalue\n",
    "        elif row_nr == col_nr:\n",
    "            corr_matrix[row_nr][col_nr] = 0\n",
    "            pvalues_matrix[row_nr][col_nr] = 0\n",
    "        \n",
    "corr_df = pd.DataFrame(np.round(corr_matrix, decimals=3), index=columns, columns=columns)\n",
    "pvalues_df = pd.DataFrame(np.round(pvalues_matrix, decimals=3), index=columns, columns=columns)"
   ]
  },
  {
   "cell_type": "markdown",
   "metadata": {},
   "source": [
    "#### Visualizing correlation matrix\n",
    "\n",
    "I really like the pandas way of visualizing the dataframe.  \n",
    "It's not a graph, it's just background coloring.  \n",
    "Nice thing is, with axis=0, axis=1, or axis=None, you can control if the background coloring is determined over row, column or the whole dataframe.  \n",
    "Check out StackOverflow on this topic: [Stackoverflow correlation matrix][so]  \n",
    "\n",
    "\n",
    "[so]:https://stackoverflow.com/questions/29432629/correlation-matrix-using-pandas"
   ]
  },
  {
   "cell_type": "code",
   "execution_count": 15,
   "metadata": {},
   "outputs": [
    {
     "data": {
      "text/html": [
       "<style  type=\"text/css\" >\n",
       "    #T_ebdf3f38_4023_11e9_b5d5_3035adc7fca0row0_col0 {\n",
       "            background-color:  #3b4cc0;\n",
       "            color:  #f1f1f1;\n",
       "        }    #T_ebdf3f38_4023_11e9_b5d5_3035adc7fca0row0_col1 {\n",
       "            background-color:  #688aef;\n",
       "            color:  #000000;\n",
       "        }    #T_ebdf3f38_4023_11e9_b5d5_3035adc7fca0row0_col2 {\n",
       "            background-color:  #3b4cc0;\n",
       "            color:  #f1f1f1;\n",
       "        }    #T_ebdf3f38_4023_11e9_b5d5_3035adc7fca0row0_col3 {\n",
       "            background-color:  #8db0fe;\n",
       "            color:  #000000;\n",
       "        }    #T_ebdf3f38_4023_11e9_b5d5_3035adc7fca0row1_col0 {\n",
       "            background-color:  #688aef;\n",
       "            color:  #000000;\n",
       "        }    #T_ebdf3f38_4023_11e9_b5d5_3035adc7fca0row1_col1 {\n",
       "            background-color:  #3b4cc0;\n",
       "            color:  #f1f1f1;\n",
       "        }    #T_ebdf3f38_4023_11e9_b5d5_3035adc7fca0row1_col2 {\n",
       "            background-color:  #ec8165;\n",
       "            color:  #000000;\n",
       "        }    #T_ebdf3f38_4023_11e9_b5d5_3035adc7fca0row1_col3 {\n",
       "            background-color:  #e97a5f;\n",
       "            color:  #000000;\n",
       "        }    #T_ebdf3f38_4023_11e9_b5d5_3035adc7fca0row2_col0 {\n",
       "            background-color:  #3b4cc0;\n",
       "            color:  #f1f1f1;\n",
       "        }    #T_ebdf3f38_4023_11e9_b5d5_3035adc7fca0row2_col1 {\n",
       "            background-color:  #ec8165;\n",
       "            color:  #000000;\n",
       "        }    #T_ebdf3f38_4023_11e9_b5d5_3035adc7fca0row2_col2 {\n",
       "            background-color:  #3b4cc0;\n",
       "            color:  #f1f1f1;\n",
       "        }    #T_ebdf3f38_4023_11e9_b5d5_3035adc7fca0row2_col3 {\n",
       "            background-color:  #b40426;\n",
       "            color:  #f1f1f1;\n",
       "        }    #T_ebdf3f38_4023_11e9_b5d5_3035adc7fca0row3_col0 {\n",
       "            background-color:  #8db0fe;\n",
       "            color:  #000000;\n",
       "        }    #T_ebdf3f38_4023_11e9_b5d5_3035adc7fca0row3_col1 {\n",
       "            background-color:  #e97a5f;\n",
       "            color:  #000000;\n",
       "        }    #T_ebdf3f38_4023_11e9_b5d5_3035adc7fca0row3_col2 {\n",
       "            background-color:  #b40426;\n",
       "            color:  #f1f1f1;\n",
       "        }    #T_ebdf3f38_4023_11e9_b5d5_3035adc7fca0row3_col3 {\n",
       "            background-color:  #3b4cc0;\n",
       "            color:  #f1f1f1;\n",
       "        }</style><table id=\"T_ebdf3f38_4023_11e9_b5d5_3035adc7fca0\" ><thead>    <tr>        <th class=\"blank level0\" ></th>        <th class=\"col_heading level0 col0\" >age</th>        <th class=\"col_heading level0 col1\" >geometry</th>        <th class=\"col_heading level0 col2\" >arithmetic</th>        <th class=\"col_heading level0 col3\" >algebra</th>    </tr></thead><tbody>\n",
       "                <tr>\n",
       "                        <th id=\"T_ebdf3f38_4023_11e9_b5d5_3035adc7fca0level0_row0\" class=\"row_heading level0 row0\" >age</th>\n",
       "                        <td id=\"T_ebdf3f38_4023_11e9_b5d5_3035adc7fca0row0_col0\" class=\"data row0 col0\" >0</td>\n",
       "                        <td id=\"T_ebdf3f38_4023_11e9_b5d5_3035adc7fca0row0_col1\" class=\"data row0 col1\" >0.099</td>\n",
       "                        <td id=\"T_ebdf3f38_4023_11e9_b5d5_3035adc7fca0row0_col2\" class=\"data row0 col2\" >0.002</td>\n",
       "                        <td id=\"T_ebdf3f38_4023_11e9_b5d5_3035adc7fca0row0_col3\" class=\"data row0 col3\" >0.169</td>\n",
       "            </tr>\n",
       "            <tr>\n",
       "                        <th id=\"T_ebdf3f38_4023_11e9_b5d5_3035adc7fca0level0_row1\" class=\"row_heading level0 row1\" >geometry</th>\n",
       "                        <td id=\"T_ebdf3f38_4023_11e9_b5d5_3035adc7fca0row1_col0\" class=\"data row1 col0\" >0.099</td>\n",
       "                        <td id=\"T_ebdf3f38_4023_11e9_b5d5_3035adc7fca0row1_col1\" class=\"data row1 col1\" >0</td>\n",
       "                        <td id=\"T_ebdf3f38_4023_11e9_b5d5_3035adc7fca0row1_col2\" class=\"data row1 col2\" >0.54</td>\n",
       "                        <td id=\"T_ebdf3f38_4023_11e9_b5d5_3035adc7fca0row1_col3\" class=\"data row1 col3\" >0.548</td>\n",
       "            </tr>\n",
       "            <tr>\n",
       "                        <th id=\"T_ebdf3f38_4023_11e9_b5d5_3035adc7fca0level0_row2\" class=\"row_heading level0 row2\" >arithmetic</th>\n",
       "                        <td id=\"T_ebdf3f38_4023_11e9_b5d5_3035adc7fca0row2_col0\" class=\"data row2 col0\" >0.002</td>\n",
       "                        <td id=\"T_ebdf3f38_4023_11e9_b5d5_3035adc7fca0row2_col1\" class=\"data row2 col1\" >0.54</td>\n",
       "                        <td id=\"T_ebdf3f38_4023_11e9_b5d5_3035adc7fca0row2_col2\" class=\"data row2 col2\" >0</td>\n",
       "                        <td id=\"T_ebdf3f38_4023_11e9_b5d5_3035adc7fca0row2_col3\" class=\"data row2 col3\" >0.668</td>\n",
       "            </tr>\n",
       "            <tr>\n",
       "                        <th id=\"T_ebdf3f38_4023_11e9_b5d5_3035adc7fca0level0_row3\" class=\"row_heading level0 row3\" >algebra</th>\n",
       "                        <td id=\"T_ebdf3f38_4023_11e9_b5d5_3035adc7fca0row3_col0\" class=\"data row3 col0\" >0.169</td>\n",
       "                        <td id=\"T_ebdf3f38_4023_11e9_b5d5_3035adc7fca0row3_col1\" class=\"data row3 col1\" >0.548</td>\n",
       "                        <td id=\"T_ebdf3f38_4023_11e9_b5d5_3035adc7fca0row3_col2\" class=\"data row3 col2\" >0.668</td>\n",
       "                        <td id=\"T_ebdf3f38_4023_11e9_b5d5_3035adc7fca0row3_col3\" class=\"data row3 col3\" >0</td>\n",
       "            </tr>\n",
       "    </tbody></table>"
      ],
      "text/plain": [
       "<pandas.io.formats.style.Styler at 0x11a5ff160>"
      ]
     },
     "execution_count": 15,
     "metadata": {},
     "output_type": "execute_result"
    }
   ],
   "source": [
    "corr_df.style.background_gradient(cmap='coolwarm', axis=None)"
   ]
  },
  {
   "cell_type": "code",
   "execution_count": 16,
   "metadata": {},
   "outputs": [
    {
     "data": {
      "text/html": [
       "<style  type=\"text/css\" >\n",
       "    #T_ebe9f05e_4023_11e9_8473_3035adc7fca0row0_col0 {\n",
       "            background-color:  #3b4cc0;\n",
       "            color:  #f1f1f1;\n",
       "        }    #T_ebe9f05e_4023_11e9_8473_3035adc7fca0row0_col1 {\n",
       "            background-color:  #b9d0f9;\n",
       "            color:  #000000;\n",
       "        }    #T_ebe9f05e_4023_11e9_8473_3035adc7fca0row0_col2 {\n",
       "            background-color:  #b40426;\n",
       "            color:  #f1f1f1;\n",
       "        }    #T_ebe9f05e_4023_11e9_8473_3035adc7fca0row0_col3 {\n",
       "            background-color:  #6384eb;\n",
       "            color:  #000000;\n",
       "        }    #T_ebe9f05e_4023_11e9_8473_3035adc7fca0row1_col0 {\n",
       "            background-color:  #b9d0f9;\n",
       "            color:  #000000;\n",
       "        }    #T_ebe9f05e_4023_11e9_8473_3035adc7fca0row1_col1 {\n",
       "            background-color:  #3b4cc0;\n",
       "            color:  #f1f1f1;\n",
       "        }    #T_ebe9f05e_4023_11e9_8473_3035adc7fca0row1_col2 {\n",
       "            background-color:  #3b4cc0;\n",
       "            color:  #f1f1f1;\n",
       "        }    #T_ebe9f05e_4023_11e9_8473_3035adc7fca0row1_col3 {\n",
       "            background-color:  #3b4cc0;\n",
       "            color:  #f1f1f1;\n",
       "        }    #T_ebe9f05e_4023_11e9_8473_3035adc7fca0row2_col0 {\n",
       "            background-color:  #b40426;\n",
       "            color:  #f1f1f1;\n",
       "        }    #T_ebe9f05e_4023_11e9_8473_3035adc7fca0row2_col1 {\n",
       "            background-color:  #3b4cc0;\n",
       "            color:  #f1f1f1;\n",
       "        }    #T_ebe9f05e_4023_11e9_8473_3035adc7fca0row2_col2 {\n",
       "            background-color:  #3b4cc0;\n",
       "            color:  #f1f1f1;\n",
       "        }    #T_ebe9f05e_4023_11e9_8473_3035adc7fca0row2_col3 {\n",
       "            background-color:  #3b4cc0;\n",
       "            color:  #f1f1f1;\n",
       "        }    #T_ebe9f05e_4023_11e9_8473_3035adc7fca0row3_col0 {\n",
       "            background-color:  #6384eb;\n",
       "            color:  #000000;\n",
       "        }    #T_ebe9f05e_4023_11e9_8473_3035adc7fca0row3_col1 {\n",
       "            background-color:  #3b4cc0;\n",
       "            color:  #f1f1f1;\n",
       "        }    #T_ebe9f05e_4023_11e9_8473_3035adc7fca0row3_col2 {\n",
       "            background-color:  #3b4cc0;\n",
       "            color:  #f1f1f1;\n",
       "        }    #T_ebe9f05e_4023_11e9_8473_3035adc7fca0row3_col3 {\n",
       "            background-color:  #3b4cc0;\n",
       "            color:  #f1f1f1;\n",
       "        }</style><table id=\"T_ebe9f05e_4023_11e9_8473_3035adc7fca0\" ><thead>    <tr>        <th class=\"blank level0\" ></th>        <th class=\"col_heading level0 col0\" >age</th>        <th class=\"col_heading level0 col1\" >geometry</th>        <th class=\"col_heading level0 col2\" >arithmetic</th>        <th class=\"col_heading level0 col3\" >algebra</th>    </tr></thead><tbody>\n",
       "                <tr>\n",
       "                        <th id=\"T_ebe9f05e_4023_11e9_8473_3035adc7fca0level0_row0\" class=\"row_heading level0 row0\" >age</th>\n",
       "                        <td id=\"T_ebe9f05e_4023_11e9_8473_3035adc7fca0row0_col0\" class=\"data row0 col0\" >0</td>\n",
       "                        <td id=\"T_ebe9f05e_4023_11e9_8473_3035adc7fca0row0_col1\" class=\"data row0 col1\" >0.371</td>\n",
       "                        <td id=\"T_ebe9f05e_4023_11e9_8473_3035adc7fca0row0_col2\" class=\"data row0 col2\" >0.988</td>\n",
       "                        <td id=\"T_ebe9f05e_4023_11e9_8473_3035adc7fca0row0_col3\" class=\"data row0 col3\" >0.128</td>\n",
       "            </tr>\n",
       "            <tr>\n",
       "                        <th id=\"T_ebe9f05e_4023_11e9_8473_3035adc7fca0level0_row1\" class=\"row_heading level0 row1\" >geometry</th>\n",
       "                        <td id=\"T_ebe9f05e_4023_11e9_8473_3035adc7fca0row1_col0\" class=\"data row1 col0\" >0.371</td>\n",
       "                        <td id=\"T_ebe9f05e_4023_11e9_8473_3035adc7fca0row1_col1\" class=\"data row1 col1\" >0</td>\n",
       "                        <td id=\"T_ebe9f05e_4023_11e9_8473_3035adc7fca0row1_col2\" class=\"data row1 col2\" >0</td>\n",
       "                        <td id=\"T_ebe9f05e_4023_11e9_8473_3035adc7fca0row1_col3\" class=\"data row1 col3\" >0</td>\n",
       "            </tr>\n",
       "            <tr>\n",
       "                        <th id=\"T_ebe9f05e_4023_11e9_8473_3035adc7fca0level0_row2\" class=\"row_heading level0 row2\" >arithmetic</th>\n",
       "                        <td id=\"T_ebe9f05e_4023_11e9_8473_3035adc7fca0row2_col0\" class=\"data row2 col0\" >0.988</td>\n",
       "                        <td id=\"T_ebe9f05e_4023_11e9_8473_3035adc7fca0row2_col1\" class=\"data row2 col1\" >0</td>\n",
       "                        <td id=\"T_ebe9f05e_4023_11e9_8473_3035adc7fca0row2_col2\" class=\"data row2 col2\" >0</td>\n",
       "                        <td id=\"T_ebe9f05e_4023_11e9_8473_3035adc7fca0row2_col3\" class=\"data row2 col3\" >0</td>\n",
       "            </tr>\n",
       "            <tr>\n",
       "                        <th id=\"T_ebe9f05e_4023_11e9_8473_3035adc7fca0level0_row3\" class=\"row_heading level0 row3\" >algebra</th>\n",
       "                        <td id=\"T_ebe9f05e_4023_11e9_8473_3035adc7fca0row3_col0\" class=\"data row3 col0\" >0.128</td>\n",
       "                        <td id=\"T_ebe9f05e_4023_11e9_8473_3035adc7fca0row3_col1\" class=\"data row3 col1\" >0</td>\n",
       "                        <td id=\"T_ebe9f05e_4023_11e9_8473_3035adc7fca0row3_col2\" class=\"data row3 col2\" >0</td>\n",
       "                        <td id=\"T_ebe9f05e_4023_11e9_8473_3035adc7fca0row3_col3\" class=\"data row3 col3\" >0</td>\n",
       "            </tr>\n",
       "    </tbody></table>"
      ],
      "text/plain": [
       "<pandas.io.formats.style.Styler at 0x11ea20588>"
      ]
     },
     "execution_count": 16,
     "metadata": {},
     "output_type": "execute_result"
    }
   ],
   "source": [
    "pvalues_df.style.background_gradient(cmap='coolwarm', axis=None)"
   ]
  }
 ],
 "metadata": {
  "kernelspec": {
   "display_name": "openu3",
   "language": "python",
   "name": "openu3"
  },
  "language_info": {
   "codemirror_mode": {
    "name": "ipython",
    "version": 3
   },
   "file_extension": ".py",
   "mimetype": "text/x-python",
   "name": "python",
   "nbconvert_exporter": "python",
   "pygments_lexer": "ipython3",
   "version": "3.6.8"
  }
 },
 "nbformat": 4,
 "nbformat_minor": 2
}
