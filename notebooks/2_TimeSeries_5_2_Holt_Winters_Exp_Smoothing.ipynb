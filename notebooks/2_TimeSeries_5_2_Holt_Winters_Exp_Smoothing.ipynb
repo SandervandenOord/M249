{
 "cells": [
  {
   "cell_type": "markdown",
   "metadata": {},
   "source": [
    "# Holt-Winters Exponential Smoothing (additive model, linear trend + seasonality)"
   ]
  },
  {
   "cell_type": "markdown",
   "metadata": {},
   "source": [
    "#### Holt Winters Smoothing is also known as triple smoothing, since it uses 3 parameters:\n",
    "- $\\alpha$ for the level\n",
    "- $\\gamma$ for the slope/trend\n",
    "- $\\delta$ for the seasonal factors"
   ]
  },
  {
   "cell_type": "code",
   "execution_count": 1,
   "metadata": {},
   "outputs": [],
   "source": [
    "# getting some warnings from matplotlib, so turning those warnings off\n",
    "import warnings\n",
    "warnings.filterwarnings('ignore')\n",
    "\n",
    "# importing libraries\n",
    "import pandas as pd\n",
    "import numpy as np\n",
    "\n",
    "import seaborn as sns\n",
    "from matplotlib import pyplot as plt\n",
    "%matplotlib inline"
   ]
  },
  {
   "cell_type": "code",
   "execution_count": 2,
   "metadata": {},
   "outputs": [],
   "source": [
    "# statsmodels documentation on exponential smoothing, simple, Holt, Holt-Winters:\n",
    "# https://www.statsmodels.org/dev/generated/statsmodels.tsa.holtwinters.ExponentialSmoothing.html\n",
    "from statsmodels.tsa.holtwinters import ExponentialSmoothing"
   ]
  },
  {
   "cell_type": "code",
   "execution_count": 3,
   "metadata": {},
   "outputs": [],
   "source": [
    "# reading csv to dataframe\n",
    "filename = './data/infections2.csv'\n",
    "df = pd.read_csv(filename)"
   ]
  },
  {
   "cell_type": "code",
   "execution_count": 4,
   "metadata": {},
   "outputs": [
    {
     "data": {
      "text/html": [
       "<div>\n",
       "<style scoped>\n",
       "    .dataframe tbody tr th:only-of-type {\n",
       "        vertical-align: middle;\n",
       "    }\n",
       "\n",
       "    .dataframe tbody tr th {\n",
       "        vertical-align: top;\n",
       "    }\n",
       "\n",
       "    .dataframe thead th {\n",
       "        text-align: right;\n",
       "    }\n",
       "</style>\n",
       "<table border=\"1\" class=\"dataframe\">\n",
       "  <thead>\n",
       "    <tr style=\"text-align: right;\">\n",
       "      <th></th>\n",
       "      <th>clostridium</th>\n",
       "      <th>RSV</th>\n",
       "      <th>rotavirus</th>\n",
       "      <th>salmonella</th>\n",
       "      <th>YEAR_</th>\n",
       "      <th>QUARTER_</th>\n",
       "      <th>DATE_</th>\n",
       "    </tr>\n",
       "  </thead>\n",
       "  <tbody>\n",
       "    <tr>\n",
       "      <th>0</th>\n",
       "      <td>2569.000</td>\n",
       "      <td>56.000</td>\n",
       "      <td>814.000</td>\n",
       "      <td>1500.000</td>\n",
       "      <td>1996.000</td>\n",
       "      <td>3.000</td>\n",
       "      <td>Q3 1996</td>\n",
       "    </tr>\n",
       "    <tr>\n",
       "      <th>1</th>\n",
       "      <td>2876.000</td>\n",
       "      <td>5117.000</td>\n",
       "      <td>840.000</td>\n",
       "      <td>815.000</td>\n",
       "      <td>1996.000</td>\n",
       "      <td>4.000</td>\n",
       "      <td>Q4 1996</td>\n",
       "    </tr>\n",
       "    <tr>\n",
       "      <th>2</th>\n",
       "      <td>4913.000</td>\n",
       "      <td>4413.000</td>\n",
       "      <td>6830.000</td>\n",
       "      <td>560.000</td>\n",
       "      <td>1997.000</td>\n",
       "      <td>1.000</td>\n",
       "      <td>Q1 1997</td>\n",
       "    </tr>\n",
       "  </tbody>\n",
       "</table>\n",
       "</div>"
      ],
      "text/plain": [
       "   clostridium      RSV  rotavirus  salmonella    YEAR_  QUARTER_    DATE_\n",
       "0     2569.000   56.000    814.000    1500.000 1996.000     3.000  Q3 1996\n",
       "1     2876.000 5117.000    840.000     815.000 1996.000     4.000  Q4 1996\n",
       "2     4913.000 4413.000   6830.000     560.000 1997.000     1.000  Q1 1997"
      ]
     },
     "execution_count": 4,
     "metadata": {},
     "output_type": "execute_result"
    }
   ],
   "source": [
    "# inspecting data\n",
    "df.head(3)"
   ]
  },
  {
   "cell_type": "code",
   "execution_count": 5,
   "metadata": {},
   "outputs": [],
   "source": [
    "# cleaning data: setting year_quarter as index\n",
    "# for some reason you have to switch quarter and period around to get to_datetime to work\n",
    "def float_columns_to_int(df, columns):\n",
    "    \"\"\"Change float columns in dataframe to integer columns\"\"\"\n",
    "    df[columns] = df[columns].astype(int)\n",
    "    return df\n",
    "\n",
    "df = (\n",
    "    df.assign(year_quarter=pd.PeriodIndex(df['DATE_'].str.replace(r'(Q\\d) (\\d+)', r'\\2-\\1'), freq='Q'))\n",
    "      .set_index('year_quarter')\n",
    "      .pipe(float_columns_to_int, ['clostridium', 'RSV', 'rotavirus', 'salmonella'])\n",
    "      .drop(columns=['YEAR_', 'QUARTER_', 'DATE_', 'RSV', 'rotavirus', 'salmonella'])\n",
    ")"
   ]
  },
  {
   "cell_type": "code",
   "execution_count": 6,
   "metadata": {},
   "outputs": [
    {
     "data": {
      "text/html": [
       "<div>\n",
       "<style scoped>\n",
       "    .dataframe tbody tr th:only-of-type {\n",
       "        vertical-align: middle;\n",
       "    }\n",
       "\n",
       "    .dataframe tbody tr th {\n",
       "        vertical-align: top;\n",
       "    }\n",
       "\n",
       "    .dataframe thead th {\n",
       "        text-align: right;\n",
       "    }\n",
       "</style>\n",
       "<table border=\"1\" class=\"dataframe\">\n",
       "  <thead>\n",
       "    <tr style=\"text-align: right;\">\n",
       "      <th></th>\n",
       "      <th>clostridium</th>\n",
       "    </tr>\n",
       "    <tr>\n",
       "      <th>year_quarter</th>\n",
       "      <th></th>\n",
       "    </tr>\n",
       "  </thead>\n",
       "  <tbody>\n",
       "    <tr>\n",
       "      <th>1996Q3</th>\n",
       "      <td>2569</td>\n",
       "    </tr>\n",
       "    <tr>\n",
       "      <th>1996Q4</th>\n",
       "      <td>2876</td>\n",
       "    </tr>\n",
       "    <tr>\n",
       "      <th>1997Q1</th>\n",
       "      <td>4913</td>\n",
       "    </tr>\n",
       "  </tbody>\n",
       "</table>\n",
       "</div>"
      ],
      "text/plain": [
       "              clostridium\n",
       "year_quarter             \n",
       "1996Q3               2569\n",
       "1996Q4               2876\n",
       "1997Q1               4913"
      ]
     },
     "execution_count": 6,
     "metadata": {},
     "output_type": "execute_result"
    }
   ],
   "source": [
    "# nice and clean data with year_quarter as period index and all integer columns\n",
    "df.head(3)"
   ]
  },
  {
   "cell_type": "code",
   "execution_count": 7,
   "metadata": {},
   "outputs": [
    {
     "name": "stdout",
     "output_type": "stream",
     "text": [
      "<class 'pandas.core.frame.DataFrame'>\n",
      "PeriodIndex: 28 entries, 1996Q3 to 2003Q2\n",
      "Freq: Q-DEC\n",
      "Data columns (total 1 columns):\n",
      "clostridium    28 non-null int64\n",
      "dtypes: int64(1)\n",
      "memory usage: 448.0 bytes\n"
     ]
    }
   ],
   "source": [
    "df.info()"
   ]
  },
  {
   "cell_type": "code",
   "execution_count": 8,
   "metadata": {},
   "outputs": [
    {
     "data": {
      "image/png": "[encoded data removed]",
      "text/plain": [
       "<Figure size 700x450 with 1 Axes>"
      ]
     },
     "metadata": {},
     "output_type": "display_data"
    }
   ],
   "source": [
    "# you can see the data is seasonal: spikes in Q1 of every year\n",
    "# and there's an upward trend\n",
    "# variation seems constant\n",
    "# seasonal variation also seems the same size -> additive model\n",
    "ax = df['clostridium'].plot(kind='bar', color='blue')\n",
    "sns.despine();"
   ]
  },
  {
   "cell_type": "code",
   "execution_count": 9,
   "metadata": {},
   "outputs": [],
   "source": [
    "# fitting a Holt-Winters additive model, so there is a trend and it is seasonal\n",
    "triple_smoothing = ExponentialSmoothing(\n",
    "    df['clostridium'], \n",
    "    trend='additive',\n",
    "    damped=False,\n",
    "    seasonal='additive',\n",
    "    seasonal_periods=4,\n",
    ").fit()"
   ]
  },
  {
   "cell_type": "code",
   "execution_count": 10,
   "metadata": {},
   "outputs": [
    {
     "data": {
      "text/plain": [
       "{'smoothing_level': 0.5539857383069262,\n",
       " 'smoothing_slope': 1.564073106826911e-61,\n",
       " 'smoothing_seasonal': 6.256292427307645e-61,\n",
       " 'damping_slope': nan,\n",
       " 'initial_level': 3965.5702121770923,\n",
       " 'initial_slope': 175.75831059689617,\n",
       " 'initial_seasons': array([-1485.44034077, -1487.60389055,   142.17630112, -1075.5944442 ]),\n",
       " 'use_boxcox': False,\n",
       " 'lamda': None,\n",
       " 'remove_bias': False}"
      ]
     },
     "execution_count": 10,
     "metadata": {},
     "output_type": "execute_result"
    }
   ],
   "source": [
    "# parameters of model\n",
    "triple_smoothing.params"
   ]
  },
  {
   "cell_type": "code",
   "execution_count": 11,
   "metadata": {},
   "outputs": [],
   "source": [
    "# adding fitted values and residuals to dataframe\n",
    "df['clostridium_fitted'] = triple_smoothing.fittedvalues\n",
    "df['clostridium_errors'] = triple_smoothing.resid "
   ]
  },
  {
   "cell_type": "code",
   "execution_count": 12,
   "metadata": {},
   "outputs": [
    {
     "data": {
      "text/html": [
       "<div>\n",
       "<style scoped>\n",
       "    .dataframe tbody tr th:only-of-type {\n",
       "        vertical-align: middle;\n",
       "    }\n",
       "\n",
       "    .dataframe tbody tr th {\n",
       "        vertical-align: top;\n",
       "    }\n",
       "\n",
       "    .dataframe thead th {\n",
       "        text-align: right;\n",
       "    }\n",
       "</style>\n",
       "<table border=\"1\" class=\"dataframe\">\n",
       "  <thead>\n",
       "    <tr style=\"text-align: right;\">\n",
       "      <th></th>\n",
       "      <th>clostridium</th>\n",
       "      <th>clostridium_fitted</th>\n",
       "      <th>clostridium_errors</th>\n",
       "    </tr>\n",
       "    <tr>\n",
       "      <th>year_quarter</th>\n",
       "      <th></th>\n",
       "      <th></th>\n",
       "      <th></th>\n",
       "    </tr>\n",
       "  </thead>\n",
       "  <tbody>\n",
       "    <tr>\n",
       "      <th>1996Q3</th>\n",
       "      <td>2569</td>\n",
       "      <td>2655.888</td>\n",
       "      <td>-86.888</td>\n",
       "    </tr>\n",
       "    <tr>\n",
       "      <th>1996Q4</th>\n",
       "      <td>2876</td>\n",
       "      <td>2781.348</td>\n",
       "      <td>94.652</td>\n",
       "    </tr>\n",
       "    <tr>\n",
       "      <th>1997Q1</th>\n",
       "      <td>4913</td>\n",
       "      <td>4639.322</td>\n",
       "      <td>273.678</td>\n",
       "    </tr>\n",
       "  </tbody>\n",
       "</table>\n",
       "</div>"
      ],
      "text/plain": [
       "              clostridium  clostridium_fitted  clostridium_errors\n",
       "year_quarter                                                     \n",
       "1996Q3               2569            2655.888             -86.888\n",
       "1996Q4               2876            2781.348              94.652\n",
       "1997Q1               4913            4639.322             273.678"
      ]
     },
     "execution_count": 12,
     "metadata": {},
     "output_type": "execute_result"
    }
   ],
   "source": [
    "df.head(3)"
   ]
  },
  {
   "cell_type": "code",
   "execution_count": 13,
   "metadata": {},
   "outputs": [
    {
     "data": {
      "text/plain": [
       "2003Q3   7577.111\n",
       "2003Q4   7750.706\n",
       "2004Q1   9556.244\n",
       "2004Q2   8514.232\n",
       "Freq: Q-DEC, dtype: float64"
      ]
     },
     "execution_count": 13,
     "metadata": {},
     "output_type": "execute_result"
    }
   ],
   "source": [
    "# predicting the next 4 values\n",
    "predictions = triple_smoothing.predict(end='2004Q2')\n",
    "predictions"
   ]
  },
  {
   "cell_type": "code",
   "execution_count": 14,
   "metadata": {},
   "outputs": [],
   "source": [
    "# concatenating predictions to the dataframe\n",
    "df = pd.concat([df, predictions]).rename(columns={0:'clostridium_predicted'})"
   ]
  },
  {
   "cell_type": "code",
   "execution_count": 15,
   "metadata": {},
   "outputs": [
    {
     "data": {
      "text/html": [
       "<div>\n",
       "<style scoped>\n",
       "    .dataframe tbody tr th:only-of-type {\n",
       "        vertical-align: middle;\n",
       "    }\n",
       "\n",
       "    .dataframe tbody tr th {\n",
       "        vertical-align: top;\n",
       "    }\n",
       "\n",
       "    .dataframe thead th {\n",
       "        text-align: right;\n",
       "    }\n",
       "</style>\n",
       "<table border=\"1\" class=\"dataframe\">\n",
       "  <thead>\n",
       "    <tr style=\"text-align: right;\">\n",
       "      <th></th>\n",
       "      <th>clostridium</th>\n",
       "      <th>clostridium_fitted</th>\n",
       "      <th>clostridium_errors</th>\n",
       "      <th>clostridium_predicted</th>\n",
       "    </tr>\n",
       "  </thead>\n",
       "  <tbody>\n",
       "    <tr>\n",
       "      <th>2003Q2</th>\n",
       "      <td>7939.000</td>\n",
       "      <td>7652.459</td>\n",
       "      <td>286.541</td>\n",
       "      <td>nan</td>\n",
       "    </tr>\n",
       "    <tr>\n",
       "      <th>2003Q3</th>\n",
       "      <td>nan</td>\n",
       "      <td>nan</td>\n",
       "      <td>nan</td>\n",
       "      <td>7577.111</td>\n",
       "    </tr>\n",
       "    <tr>\n",
       "      <th>2003Q4</th>\n",
       "      <td>nan</td>\n",
       "      <td>nan</td>\n",
       "      <td>nan</td>\n",
       "      <td>7750.706</td>\n",
       "    </tr>\n",
       "    <tr>\n",
       "      <th>2004Q1</th>\n",
       "      <td>nan</td>\n",
       "      <td>nan</td>\n",
       "      <td>nan</td>\n",
       "      <td>9556.244</td>\n",
       "    </tr>\n",
       "    <tr>\n",
       "      <th>2004Q2</th>\n",
       "      <td>nan</td>\n",
       "      <td>nan</td>\n",
       "      <td>nan</td>\n",
       "      <td>8514.232</td>\n",
       "    </tr>\n",
       "  </tbody>\n",
       "</table>\n",
       "</div>"
      ],
      "text/plain": [
       "        clostridium  clostridium_fitted  clostridium_errors  \\\n",
       "2003Q2     7939.000            7652.459             286.541   \n",
       "2003Q3          nan                 nan                 nan   \n",
       "2003Q4          nan                 nan                 nan   \n",
       "2004Q1          nan                 nan                 nan   \n",
       "2004Q2          nan                 nan                 nan   \n",
       "\n",
       "        clostridium_predicted  \n",
       "2003Q2                    nan  \n",
       "2003Q3               7577.111  \n",
       "2003Q4               7750.706  \n",
       "2004Q1               9556.244  \n",
       "2004Q2               8514.232  "
      ]
     },
     "execution_count": 15,
     "metadata": {},
     "output_type": "execute_result"
    }
   ],
   "source": [
    "# inspecting data\n",
    "df.tail(5)"
   ]
  },
  {
   "cell_type": "code",
   "execution_count": 16,
   "metadata": {},
   "outputs": [
    {
     "data": {
      "image/png": "[encoded data removed]",
      "text/plain": [
       "<Figure size 700x450 with 1 Axes>"
      ]
     },
     "metadata": {},
     "output_type": "display_data"
    }
   ],
   "source": [
    "# plotting fitted values and predictions\n",
    "ax = df[['clostridium', 'clostridium_fitted', 'clostridium_predicted']].plot(\n",
    "    title='Predicting reports of clostridium',\n",
    "    color=['lightgrey', 'blue', 'green'],\n",
    "    style=['-', '-', ':'],\n",
    ")\n",
    "ax.set(xlabel='year_quarter', ylabel='# reports')\n",
    "sns.despine()"
   ]
  },
  {
   "cell_type": "code",
   "execution_count": 17,
   "metadata": {},
   "outputs": [
    {
     "name": "stdout",
     "output_type": "stream",
     "text": [
      "SSE: 4472897.467464444\n",
      "RMSE: 422.9845135446188\n"
     ]
    }
   ],
   "source": [
    "# calculating SSE and RMSE\n",
    "SSE = triple_smoothing.sse\n",
    "RMSE = np.sqrt(SSE / (len(df.loc[:'2003Q2']) - 3)) # df = -3 because there 3 parameters\n",
    "print(f'SSE: {SSE}\\nRMSE: {RMSE}')"
   ]
  }
 ],
 "metadata": {
  "kernelspec": {
   "display_name": "openu3",
   "language": "python",
   "name": "openu3"
  },
  "language_info": {
   "codemirror_mode": {
    "name": "ipython",
    "version": 3
   },
   "file_extension": ".py",
   "mimetype": "text/x-python",
   "name": "python",
   "nbconvert_exporter": "python",
   "pygments_lexer": "ipython3",
   "version": "3.6.2"
  }
 },
 "nbformat": 4,
 "nbformat_minor": 2
}
